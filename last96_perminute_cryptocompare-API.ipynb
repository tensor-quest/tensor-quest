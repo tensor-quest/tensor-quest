{
 "cells": [
  {
   "cell_type": "code",
   "execution_count": 12,
   "id": "568f5531-deec-4f8b-b347-7ee9f27849fb",
   "metadata": {},
   "outputs": [
    {
     "name": "stdout",
     "output_type": "stream",
     "text": [
      "  Got to timestamp 1642875720 2022-01-22 10:22:00\n",
      "  Done with BTC\n",
      "  Got to timestamp 1642875720 2022-01-22 10:22:00\n",
      "  Done with ETH\n",
      "  Got to timestamp 1642875720 2022-01-22 10:22:00\n",
      "  Done with XRP\n",
      "  Got to timestamp 1642875720 2022-01-22 10:22:00\n",
      "  Done with USDT\n",
      "  Got to timestamp 1642875720 2022-01-22 10:22:00\n",
      "  Done with ADA\n",
      "  Got to timestamp 1642875720 2022-01-22 10:22:00\n",
      "  Done with XMR\n",
      "  Got to timestamp 1642875780 2022-01-22 10:23:00\n",
      "  Done with XLM\n",
      "  Got to timestamp 1642875780 2022-01-22 10:23:00\n",
      "  Done with BUSD\n",
      "  Got to timestamp 1642875780 2022-01-22 10:23:00\n",
      "  Done with LTC\n",
      "  Got to timestamp 1642875780 2022-01-22 10:23:00\n",
      "  Done with DOGE\n",
      "Done with everything.\n"
     ]
    }
   ],
   "source": [
    "import requests\n",
    "from config import cckey\n",
    "import pandas as pd\n",
    "import sys, json\n",
    "import json\n",
    "import datetime\n",
    "\n",
    "# Get hourly market data for the following cryptocurrencies:\n",
    "\n",
    "#1.\tBitcoin     BTC\n",
    "#2.\tEthereum    ETH\n",
    "#3.\tXRP         XRP\n",
    "#4.\tTether      USDT\n",
    "#5.\tCardano     ADA\n",
    "#6.\tMonero      XMR\n",
    "#7.\tStellar     XLM\n",
    "#8.\tBinanceUSD  BUSD\n",
    "#9. Litecoin    LTC\n",
    "#10.Dogecoin    DOGE\n",
    "\n",
    "symbols=['BTC','ETH','XRP','USDT','ADA','XMR','XLM','BUSD','LTC','DOGE']\n",
    "for symbol in symbols:\n",
    "\n",
    "    df = results = pd.DataFrame()\n",
    "    url = 'https://min-api.cryptocompare.com/data/v2/histominute?'\n",
    "\n",
    "    # Initial toTimeStamp is set to -1 (up to the timestamp of the call)\n",
    "    totime = 0\n",
    "    n=2000\n",
    "    while (1):\n",
    "        params = {'fsym':symbol,'tsym':'USD','limit':n,'toTs':totime-1,'api_key':cckey}\n",
    "        response = requests.get(url, params=params).json()\n",
    "        if response['Response'] != 'Success':\n",
    "            break\n",
    "\n",
    "        # Append the 2000 rows of data to the dataframe\n",
    "        i = len(response['Data']['Data'])-1\n",
    "        while (i >= 0):\n",
    "            data = response['Data']['Data'][i]\n",
    "            results = pd.DataFrame(data=response['Data']['Data'][i],index=['time'])\n",
    "            df = df.append(results.set_index('time'))\n",
    "            i -= 1\n",
    "            \n",
    "        # Stop when we reach the hour of BTC Genesis\n",
    "        totime = response['Data']['TimeFrom']\n",
    "        #if len(df) > 20160:  # 2-weeks\n",
    "        if len(df) > 960:      # 96 minutes\n",
    "            break\n",
    "            \n",
    "        # Report status\n",
    "        print(\"Got to timestamp \"+str(totime)+' '+str( datetime.datetime.fromtimestamp(totime)))\n",
    "        \n",
    "    # Report final status and save csv file\n",
    "    print(\"  Got to timestamp \"+str(totime)+' '+str( datetime.datetime.fromtimestamp(totime)))\n",
    "    print(\"  Done with \"+symbol)\n",
    "    df = df[df.index>1642989000]\n",
    "    df = df.tail(96)\n",
    "    df.to_csv(\"perminute_\"+symbol+\"real4.csv\")\n",
    "\n",
    "print(\"Done with everything.\")"
   ]
  },
  {
   "cell_type": "code",
   "execution_count": null,
   "id": "4b6990a5",
   "metadata": {},
   "outputs": [],
   "source": []
  },
  {
   "cell_type": "code",
   "execution_count": null,
   "id": "a655af06",
   "metadata": {},
   "outputs": [],
   "source": []
  }
 ],
 "metadata": {
  "kernelspec": {
   "display_name": "Python 3 (ipykernel)",
   "language": "python",
   "name": "python3"
  },
  "language_info": {
   "codemirror_mode": {
    "name": "ipython",
    "version": 3
   },
   "file_extension": ".py",
   "mimetype": "text/x-python",
   "name": "python",
   "nbconvert_exporter": "python",
   "pygments_lexer": "ipython3",
   "version": "3.9.7"
  }
 },
 "nbformat": 4,
 "nbformat_minor": 5
}
